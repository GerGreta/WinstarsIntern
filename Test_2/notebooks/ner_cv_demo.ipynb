{
 "cells": [
  {
   "cell_type": "markdown",
   "id": "2ca00234-7265-4121-a7b5-9a2e18d23de7",
   "metadata": {},
   "source": [
    "# Animal Recognition Pipeline Demonstration¶\n",
    "This notebook demonstrates how our pipeline analyzes text and images to recognize animals."
   ]
  },
  {
   "cell_type": "markdown",
   "id": "17501bae-4efc-4962-8fe6-04fc0f482155",
   "metadata": {},
   "source": [
    "## Imports"
   ]
  },
  {
   "cell_type": "code",
   "execution_count": 1,
   "id": "94325aec-1460-411a-bfb0-8bd8866410aa",
   "metadata": {},
   "outputs": [],
   "source": [
    "from pathlib import Path\n",
    "import random\n",
    "from PIL import Image\n",
    "import matplotlib.pyplot as plt\n",
    "\n",
    "# Enable inline plotting for Jupyter Notebook\n",
    "%matplotlib inline"
   ]
  },
  {
   "cell_type": "markdown",
   "id": "8f47feda-cc3a-42ce-8bb9-b90e6efc724a",
   "metadata": {},
   "source": [
    "## Settings"
   ]
  },
  {
   "cell_type": "code",
   "execution_count": 2,
   "id": "fa6b2dc4-cf4e-478b-814c-ef2fef7c7031",
   "metadata": {},
   "outputs": [
    {
     "name": "stdout",
     "output_type": "stream",
     "text": [
      "Found 10 classes: ['butterfly', 'cat', 'chicken', 'cow', 'dog', 'elephant', 'horse', 'sheep', 'spider', 'squirrel']\n"
     ]
    }
   ],
   "source": [
    "# Set project root relative to this notebook\n",
    "ROOT = Path().resolve().parent  # adjust if notebook is in a subfolder\n",
    "DATA_DIR = ROOT / \"data\" / \"images\"\n",
    "\n",
    "# List of classes (folders) in the images directory\n",
    "classes = [d.name for d in DATA_DIR.iterdir() if d.is_dir()]\n",
    "\n",
    "print(f\"Found {len(classes)} classes: {classes}\")\n"
   ]
  },
  {
   "cell_type": "markdown",
   "id": "c94f4641-0304-4469-913e-585f61f134c1",
   "metadata": {},
   "source": [
    "## Functions"
   ]
  },
  {
   "cell_type": "code",
   "execution_count": 3,
   "id": "96251b89-eb9a-427a-90dd-7f3c5f61a4e1",
   "metadata": {},
   "outputs": [],
   "source": [
    "def extract_animals(text):\n",
    "    \"\"\"\n",
    "    Simple dictionary-based Named Entity Recognition (NER) simulation.\n",
    "    Extracts animal names mentioned in the text based on known classes.\n",
    "    \"\"\"\n",
    "    return [animal for animal in classes if animal in text.lower()]\n",
    "\n",
    "def classify_image(img_path):\n",
    "    \"\"\"\n",
    "    Simulated image classification function.\n",
    "    Replace with your trained CV model for real predictions.\n",
    "    \"\"\"\n",
    "    return random.choice(classes)\n"
   ]
  },
  {
   "cell_type": "markdown",
   "id": "c8cfeca6-3761-4502-ae7f-f18cb0c068d2",
   "metadata": {},
   "source": [
    "## Demo Loop"
   ]
  },
  {
   "cell_type": "code",
   "execution_count": null,
   "id": "bf0087ce-1bd8-414a-9845-b9ee622bbd3e",
   "metadata": {},
   "outputs": [
    {
     "name": "stdout",
     "output_type": "stream",
     "text": [
      "\n",
      "Example 1/3\n"
     ]
    }
   ],
   "source": [
    "num_examples = 3  # number of demo runs\n",
    "\n",
    "for i in range(num_examples):\n",
    "    print(f\"\\nExample {i+1}/{num_examples}\")\n",
    "    \n",
    "    # User input\n",
    "    sample_text = input(\"Enter text describing the animal: \")\n",
    "\n",
    "    # Random image selection\n",
    "    image_class = random.choice(classes)  # select random folder\n",
    "    folder_path = DATA_DIR / image_class\n",
    "    img_file = random.choice(list(folder_path.iterdir()))  # random file from folder\n",
    "    img_path = folder_path / img_file\n",
    "\n",
    "    # Display the image\n",
    "    img = Image.open(img_path)\n",
    "    plt.imshow(img)\n",
    "    plt.axis('off')\n",
    "    plt.title(f\"Random image from folder: {image_class}\")\n",
    "    plt.show()\n",
    "\n",
    "    # Extract animals from text\n",
    "    animals_extracted = extract_animals(sample_text)\n",
    "    print(\"Text:\", sample_text)\n",
    "    print(\"Extracted from text:\", animals_extracted)\n",
    "\n",
    "    # Classify the animal in the image\n",
    "    animal_from_image = classify_image(img_path)\n",
    "    print(\"Predicted from image:\", animal_from_image)\n",
    "\n",
    "    # Compare text vs image\n",
    "    match = any(animal_from_image.lower() in a.lower() for a in animals_extracted)\n",
    "    print(\"Match:\", match)\n",
    "    print(\"-\" * 50)"
   ]
  }
 ],
 "metadata": {
  "kernelspec": {
   "display_name": "Python 3 (ipykernel)",
   "language": "python",
   "name": "python3"
  },
  "language_info": {
   "codemirror_mode": {
    "name": "ipython",
    "version": 3
   },
   "file_extension": ".py",
   "mimetype": "text/x-python",
   "name": "python",
   "nbconvert_exporter": "python",
   "pygments_lexer": "ipython3",
   "version": "3.13.4"
  }
 },
 "nbformat": 4,
 "nbformat_minor": 5
}
